{
 "cells": [
  {
   "cell_type": "code",
   "execution_count": 13,
   "id": "c758dd15",
   "metadata": {},
   "outputs": [],
   "source": [
    "import tkinter as tk\n",
    "from tkinter import filedialog\n",
    "from tkinter import *\n",
    "from PIL import ImageTk, Image\n",
    "import numpy\n",
    "import cv2\n",
    "import numpy as np\n",
    "import pandas as pd\n",
    "import os\n",
    "from keras.models import load_model\n",
    "from keras.models import Model\n",
    "from sklearn.metrics.pairwise import cosine_similarity\n",
    "\n",
    "\n",
    "\n",
    "#dictionary to label all the dataset classes.\n",
    "\n",
    "top=tk.Tk()\n",
    "top.geometry('800x600')\n",
    "top.title('Similar product recommendation')\n",
    "top.configure(background='#CDCDCD')\n",
    "label=Label(top,background='#CDCDCD', font=('arial',15,'bold'))\n",
    "sign_image = Label(top)"
   ]
  },
  {
   "cell_type": "code",
   "execution_count": 14,
   "id": "a25a1a28",
   "metadata": {},
   "outputs": [],
   "source": [
    "def sim_prod(img_path):\n",
    "    c=[]\n",
    "    names=os.listdir('bottoms_resized_png')\n",
    "    from keras.applications import (vgg16)\n",
    "    model = vgg16.VGG16(weights='imagenet')\n",
    "    image_width = eval(str(model.layers[0].output.shape[1]))\n",
    "    image_height = eval(str(model.layers[0].output.shape[2]))\n",
    "    feature = Model(inputs=model.input,outputs=model.layers[-2].output)\n",
    "    images=[]\n",
    "    for i in names:\n",
    "        sample_img = cv2.imread(\"bottoms_resized_png/{}\".format(i))\n",
    "        sample_img=np.resize(sample_img,[image_height,image_width,3])\n",
    "        sample_img=np.expand_dims(sample_img,axis=0)\n",
    "#     columns=i)\n",
    "        images.append(sample_img)\n",
    "    img=cv2.imread(img_path)\n",
    "    img=np.resize(img,[image_height,image_width,3])\n",
    "    img=np.expand_dims(img,axis=0)\n",
    "    images.insert(0,img)\n",
    "    imag=np.vstack(images)\n",
    "    vectors=feature.predict(imag)\n",
    "    similarity = cosine_similarity(vectors)\n",
    "    df=pd.DataFrame(similarity)\n",
    "    jk=list(df[0].sort_values(ascending=False)[:11].index)\n",
    "    jk.pop(0)\n",
    "\n",
    "    "
   ]
  },
  {
   "cell_type": "code",
   "execution_count": 15,
   "id": "ad77f814",
   "metadata": {},
   "outputs": [],
   "source": [
    "def show_classify_button(file_path):\n",
    "    classify_b=Button(top,text=\"find similar\",\n",
    "   command=lambda: sim_prod(file_path),padx=10,pady=5)\n",
    "    classify_b.configure(background='#364156', foreground='white',\n",
    "font=('arial',10,'bold'))\n",
    "    classify_b.place(relx=0.79,rely=0.46)"
   ]
  },
  {
   "cell_type": "code",
   "execution_count": 16,
   "id": "9b9b56c5",
   "metadata": {},
   "outputs": [],
   "source": [
    "def upload_image():\n",
    "    try:\n",
    "        file_path=filedialog.askopenfilename()\n",
    "        uploaded=Image.open(file_path)\n",
    "        uploaded.thumbnail(((top.winfo_width()/2.25),\n",
    "    (top.winfo_height()/2.25)))\n",
    "        im=ImageTk.PhotoImage(uploaded)\n",
    "        sign_image.configure(image=im)\n",
    "        sign_image.image=im\n",
    "        label.configure(text='')\n",
    "        show_classify_button(file_path)\n",
    "    except:\n",
    "        pass\n"
   ]
  },
  {
   "cell_type": "code",
   "execution_count": null,
   "id": "30859cea",
   "metadata": {},
   "outputs": [],
   "source": [
    "upload=Button(top,text=\"Upload an image\",command=upload_image,\n",
    "  padx=10,pady=5)\n",
    "\n",
    "upload.configure(background='#364156', foreground='white',\n",
    "    font=('arial',10,'bold'))\n",
    "\n",
    "upload.pack(side=BOTTOM,pady=50)\n",
    "sign_image.pack(side=BOTTOM,expand=True)\n",
    "label.pack(side=BOTTOM,expand=True)\n",
    "heading = Label(top, text=\"similar images\",pady=20, font=('arial',20,'bold'))\n",
    "\n",
    "heading.configure(background='#CDCDCD',foreground='#364156')\n",
    "heading.pack()\n",
    "top.mainloop()"
   ]
  },
  {
   "cell_type": "code",
   "execution_count": null,
   "id": "9a2969f9",
   "metadata": {},
   "outputs": [],
   "source": []
  },
  {
   "cell_type": "code",
   "execution_count": null,
   "id": "5c71269e",
   "metadata": {},
   "outputs": [],
   "source": []
  }
 ],
 "metadata": {
  "kernelspec": {
   "display_name": "Python 3",
   "language": "python",
   "name": "python3"
  },
  "language_info": {
   "codemirror_mode": {
    "name": "ipython",
    "version": 3
   },
   "file_extension": ".py",
   "mimetype": "text/x-python",
   "name": "python",
   "nbconvert_exporter": "python",
   "pygments_lexer": "ipython3",
   "version": "3.8.8"
  }
 },
 "nbformat": 4,
 "nbformat_minor": 5
}
