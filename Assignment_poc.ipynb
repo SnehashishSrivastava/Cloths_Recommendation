{
 "cells": [
  {
   "cell_type": "code",
   "execution_count": 1,
   "id": "882e33c7",
   "metadata": {},
   "outputs": [],
   "source": [
    "import os \n",
    "names=os.listdir('bottoms_resized_png')"
   ]
  },
  {
   "cell_type": "code",
   "execution_count": 66,
   "id": "24214b54",
   "metadata": {},
   "outputs": [
    {
     "data": {
      "text/plain": [
       "1050"
      ]
     },
     "execution_count": 66,
     "metadata": {},
     "output_type": "execute_result"
    }
   ],
   "source": [
    "len(names)"
   ]
  },
  {
   "cell_type": "code",
   "execution_count": 15,
   "id": "7c04f797",
   "metadata": {},
   "outputs": [],
   "source": [
    "import cv2\n",
    "sample_img = cv2.imread(\"bottoms_resized_png/{}.png\".format(\"13480173LGR\"))"
   ]
  },
  {
   "cell_type": "code",
   "execution_count": 16,
   "id": "f340f04c",
   "metadata": {},
   "outputs": [
    {
     "name": "stdout",
     "output_type": "stream",
     "text": [
      "Image Shape: (500, 333, 3)\n"
     ]
    }
   ],
   "source": [
    "print(\"Image Shape:\", sample_img.shape)"
   ]
  },
  {
   "cell_type": "code",
   "execution_count": 203,
   "id": "a03947ca",
   "metadata": {},
   "outputs": [],
   "source": [
    "from keras.applications import (vgg16)"
   ]
  },
  {
   "cell_type": "code",
   "execution_count": 205,
   "id": "7836f563",
   "metadata": {},
   "outputs": [],
   "source": [
    "model = vgg16.VGG16(weights='imagenet')"
   ]
  },
  {
   "cell_type": "code",
   "execution_count": 206,
   "id": "5ed38378",
   "metadata": {},
   "outputs": [
    {
     "name": "stdout",
     "output_type": "stream",
     "text": [
      "Model: \"vgg16\"\n",
      "_________________________________________________________________\n",
      "Layer (type)                 Output Shape              Param #   \n",
      "=================================================================\n",
      "input_4 (InputLayer)         [(None, 224, 224, 3)]     0         \n",
      "_________________________________________________________________\n",
      "block1_conv1 (Conv2D)        (None, 224, 224, 64)      1792      \n",
      "_________________________________________________________________\n",
      "block1_conv2 (Conv2D)        (None, 224, 224, 64)      36928     \n",
      "_________________________________________________________________\n",
      "block1_pool (MaxPooling2D)   (None, 112, 112, 64)      0         \n",
      "_________________________________________________________________\n",
      "block2_conv1 (Conv2D)        (None, 112, 112, 128)     73856     \n",
      "_________________________________________________________________\n",
      "block2_conv2 (Conv2D)        (None, 112, 112, 128)     147584    \n",
      "_________________________________________________________________\n",
      "block2_pool (MaxPooling2D)   (None, 56, 56, 128)       0         \n",
      "_________________________________________________________________\n",
      "block3_conv1 (Conv2D)        (None, 56, 56, 256)       295168    \n",
      "_________________________________________________________________\n",
      "block3_conv2 (Conv2D)        (None, 56, 56, 256)       590080    \n",
      "_________________________________________________________________\n",
      "block3_conv3 (Conv2D)        (None, 56, 56, 256)       590080    \n",
      "_________________________________________________________________\n",
      "block3_pool (MaxPooling2D)   (None, 28, 28, 256)       0         \n",
      "_________________________________________________________________\n",
      "block4_conv1 (Conv2D)        (None, 28, 28, 512)       1180160   \n",
      "_________________________________________________________________\n",
      "block4_conv2 (Conv2D)        (None, 28, 28, 512)       2359808   \n",
      "_________________________________________________________________\n",
      "block4_conv3 (Conv2D)        (None, 28, 28, 512)       2359808   \n",
      "_________________________________________________________________\n",
      "block4_pool (MaxPooling2D)   (None, 14, 14, 512)       0         \n",
      "_________________________________________________________________\n",
      "block5_conv1 (Conv2D)        (None, 14, 14, 512)       2359808   \n",
      "_________________________________________________________________\n",
      "block5_conv2 (Conv2D)        (None, 14, 14, 512)       2359808   \n",
      "_________________________________________________________________\n",
      "block5_conv3 (Conv2D)        (None, 14, 14, 512)       2359808   \n",
      "_________________________________________________________________\n",
      "block5_pool (MaxPooling2D)   (None, 7, 7, 512)         0         \n",
      "_________________________________________________________________\n",
      "flatten (Flatten)            (None, 25088)             0         \n",
      "_________________________________________________________________\n",
      "fc1 (Dense)                  (None, 4096)              102764544 \n",
      "_________________________________________________________________\n",
      "fc2 (Dense)                  (None, 4096)              16781312  \n",
      "_________________________________________________________________\n",
      "predictions (Dense)          (None, 1000)              4097000   \n",
      "=================================================================\n",
      "Total params: 138,357,544\n",
      "Trainable params: 138,357,544\n",
      "Non-trainable params: 0\n",
      "_________________________________________________________________\n"
     ]
    }
   ],
   "source": [
    "model.summary()"
   ]
  },
  {
   "cell_type": "code",
   "execution_count": 207,
   "id": "f9fc2f91",
   "metadata": {},
   "outputs": [],
   "source": [
    "image_width = eval(str(model.layers[0].output.shape[1]))\n",
    "image_height = eval(str(model.layers[0].output.shape[2]))"
   ]
  },
  {
   "cell_type": "code",
   "execution_count": 210,
   "id": "d35c215b",
   "metadata": {},
   "outputs": [],
   "source": [
    "import numpy as np"
   ]
  },
  {
   "cell_type": "code",
   "execution_count": 214,
   "id": "f5a3b8df",
   "metadata": {},
   "outputs": [],
   "source": [
    "import pandas as pd\n",
    "df=pd.DataFrame()"
   ]
  },
  {
   "cell_type": "code",
   "execution_count": 216,
   "id": "eaa58f6f",
   "metadata": {},
   "outputs": [],
   "source": [
    "from keras.models import Model\n",
    "feature = Model(inputs=model.input,outputs=model.layers[-2].output)"
   ]
  },
  {
   "cell_type": "code",
   "execution_count": 217,
   "id": "8b1b439c",
   "metadata": {},
   "outputs": [
    {
     "name": "stdout",
     "output_type": "stream",
     "text": [
      "Model: \"model_7\"\n",
      "_________________________________________________________________\n",
      "Layer (type)                 Output Shape              Param #   \n",
      "=================================================================\n",
      "input_4 (InputLayer)         [(None, 224, 224, 3)]     0         \n",
      "_________________________________________________________________\n",
      "block1_conv1 (Conv2D)        (None, 224, 224, 64)      1792      \n",
      "_________________________________________________________________\n",
      "block1_conv2 (Conv2D)        (None, 224, 224, 64)      36928     \n",
      "_________________________________________________________________\n",
      "block1_pool (MaxPooling2D)   (None, 112, 112, 64)      0         \n",
      "_________________________________________________________________\n",
      "block2_conv1 (Conv2D)        (None, 112, 112, 128)     73856     \n",
      "_________________________________________________________________\n",
      "block2_conv2 (Conv2D)        (None, 112, 112, 128)     147584    \n",
      "_________________________________________________________________\n",
      "block2_pool (MaxPooling2D)   (None, 56, 56, 128)       0         \n",
      "_________________________________________________________________\n",
      "block3_conv1 (Conv2D)        (None, 56, 56, 256)       295168    \n",
      "_________________________________________________________________\n",
      "block3_conv2 (Conv2D)        (None, 56, 56, 256)       590080    \n",
      "_________________________________________________________________\n",
      "block3_conv3 (Conv2D)        (None, 56, 56, 256)       590080    \n",
      "_________________________________________________________________\n",
      "block3_pool (MaxPooling2D)   (None, 28, 28, 256)       0         \n",
      "_________________________________________________________________\n",
      "block4_conv1 (Conv2D)        (None, 28, 28, 512)       1180160   \n",
      "_________________________________________________________________\n",
      "block4_conv2 (Conv2D)        (None, 28, 28, 512)       2359808   \n",
      "_________________________________________________________________\n",
      "block4_conv3 (Conv2D)        (None, 28, 28, 512)       2359808   \n",
      "_________________________________________________________________\n",
      "block4_pool (MaxPooling2D)   (None, 14, 14, 512)       0         \n",
      "_________________________________________________________________\n",
      "block5_conv1 (Conv2D)        (None, 14, 14, 512)       2359808   \n",
      "_________________________________________________________________\n",
      "block5_conv2 (Conv2D)        (None, 14, 14, 512)       2359808   \n",
      "_________________________________________________________________\n",
      "block5_conv3 (Conv2D)        (None, 14, 14, 512)       2359808   \n",
      "_________________________________________________________________\n",
      "block5_pool (MaxPooling2D)   (None, 7, 7, 512)         0         \n",
      "_________________________________________________________________\n",
      "flatten (Flatten)            (None, 25088)             0         \n",
      "_________________________________________________________________\n",
      "fc1 (Dense)                  (None, 4096)              102764544 \n",
      "_________________________________________________________________\n",
      "fc2 (Dense)                  (None, 4096)              16781312  \n",
      "=================================================================\n",
      "Total params: 134,260,544\n",
      "Trainable params: 134,260,544\n",
      "Non-trainable params: 0\n",
      "_________________________________________________________________\n"
     ]
    }
   ],
   "source": [
    "feature.summary()"
   ]
  },
  {
   "cell_type": "code",
   "execution_count": 222,
   "id": "a1776328",
   "metadata": {},
   "outputs": [],
   "source": [
    "images=[]\n",
    "for i in names:\n",
    "    sample_img = cv2.imread(\"bottoms_resized_png/{}\".format(i))\n",
    "    sample_img=np.resize(sample_img,[image_height,image_width,3])\n",
    "    sample_img=np.expand_dims(sample_img,axis=0)\n",
    "#     columns=i)\n",
    "    images.append(sample_img)"
   ]
  },
  {
   "cell_type": "code",
   "execution_count": 223,
   "id": "e002ef63",
   "metadata": {},
   "outputs": [],
   "source": [
    "imag = np.vstack(images)"
   ]
  },
  {
   "cell_type": "code",
   "execution_count": 225,
   "id": "23cab1b2",
   "metadata": {},
   "outputs": [
    {
     "data": {
      "text/plain": [
       "(1050, 224, 224, 3)"
      ]
     },
     "execution_count": 225,
     "metadata": {},
     "output_type": "execute_result"
    }
   ],
   "source": [
    "imag.shape"
   ]
  },
  {
   "cell_type": "code",
   "execution_count": 226,
   "id": "f394b449",
   "metadata": {},
   "outputs": [],
   "source": [
    "vectors=feature.predict(imag)"
   ]
  },
  {
   "cell_type": "code",
   "execution_count": 228,
   "id": "ba4548a8",
   "metadata": {},
   "outputs": [],
   "source": [
    "from sklearn.metrics.pairwise import cosine_similarity\n",
    "\n",
    "similarity = cosine_similarity(vectors)"
   ]
  },
  {
   "cell_type": "code",
   "execution_count": 229,
   "id": "e8662bc2",
   "metadata": {},
   "outputs": [],
   "source": [
    "df=pd.DataFrame(similarity)"
   ]
  },
  {
   "cell_type": "code",
   "execution_count": 230,
   "id": "335c7820",
   "metadata": {},
   "outputs": [
    {
     "data": {
      "text/plain": [
       "array([0.       , 2.7158048, 2.9408822, ..., 0.       , 0.       ,\n",
       "       0.       ], dtype=float32)"
      ]
     },
     "execution_count": 230,
     "metadata": {},
     "output_type": "execute_result"
    }
   ],
   "source": [
    "vectors[0]"
   ]
  },
  {
   "cell_type": "code",
   "execution_count": 231,
   "id": "d8134e03",
   "metadata": {},
   "outputs": [],
   "source": [
    "df.columns=names"
   ]
  },
  {
   "cell_type": "code",
   "execution_count": 232,
   "id": "223b7a52",
   "metadata": {},
   "outputs": [],
   "source": [
    "df.insert(loc=0, column='names', value=names)"
   ]
  },
  {
   "cell_type": "code",
   "execution_count": 233,
   "id": "922941d4",
   "metadata": {},
   "outputs": [
    {
     "data": {
      "text/html": [
       "<div>\n",
       "<style scoped>\n",
       "    .dataframe tbody tr th:only-of-type {\n",
       "        vertical-align: middle;\n",
       "    }\n",
       "\n",
       "    .dataframe tbody tr th {\n",
       "        vertical-align: top;\n",
       "    }\n",
       "\n",
       "    .dataframe thead th {\n",
       "        text-align: right;\n",
       "    }\n",
       "</style>\n",
       "<table border=\"1\" class=\"dataframe\">\n",
       "  <thead>\n",
       "    <tr style=\"text-align: right;\">\n",
       "      <th></th>\n",
       "      <th>names</th>\n",
       "      <th>13079565VVD.png</th>\n",
       "      <th>13079565VVR.png</th>\n",
       "      <th>13108390UDD.png</th>\n",
       "      <th>13108390UDR.png</th>\n",
       "      <th>13110484CLD.png</th>\n",
       "      <th>13110484CLR.png</th>\n",
       "      <th>13162479UBD.png</th>\n",
       "      <th>13162479UBR.png</th>\n",
       "      <th>13180761CUD.png</th>\n",
       "      <th>...</th>\n",
       "      <th>35469801CGR.png</th>\n",
       "      <th>35469803KND.png</th>\n",
       "      <th>35469803KNR.png</th>\n",
       "      <th>35469830CLD.png</th>\n",
       "      <th>35469830CLR.png</th>\n",
       "      <th>35469839NFD.png</th>\n",
       "      <th>35469839NFR.png</th>\n",
       "      <th>35469919KWD.png</th>\n",
       "      <th>35469919KWR.png</th>\n",
       "      <th>35469965SND.png</th>\n",
       "    </tr>\n",
       "  </thead>\n",
       "  <tbody>\n",
       "    <tr>\n",
       "      <th>0</th>\n",
       "      <td>13079565VVD.png</td>\n",
       "      <td>1.000000</td>\n",
       "      <td>0.603766</td>\n",
       "      <td>0.962574</td>\n",
       "      <td>0.921918</td>\n",
       "      <td>0.622158</td>\n",
       "      <td>0.630743</td>\n",
       "      <td>0.891023</td>\n",
       "      <td>0.906469</td>\n",
       "      <td>0.839861</td>\n",
       "      <td>...</td>\n",
       "      <td>0.582137</td>\n",
       "      <td>0.797738</td>\n",
       "      <td>0.728305</td>\n",
       "      <td>0.576462</td>\n",
       "      <td>0.575991</td>\n",
       "      <td>0.669097</td>\n",
       "      <td>0.649973</td>\n",
       "      <td>0.634971</td>\n",
       "      <td>0.688263</td>\n",
       "      <td>0.563770</td>\n",
       "    </tr>\n",
       "    <tr>\n",
       "      <th>1</th>\n",
       "      <td>13079565VVR.png</td>\n",
       "      <td>0.603766</td>\n",
       "      <td>1.000000</td>\n",
       "      <td>0.566575</td>\n",
       "      <td>0.636311</td>\n",
       "      <td>0.962914</td>\n",
       "      <td>0.957046</td>\n",
       "      <td>0.580243</td>\n",
       "      <td>0.577124</td>\n",
       "      <td>0.716554</td>\n",
       "      <td>...</td>\n",
       "      <td>0.714773</td>\n",
       "      <td>0.554644</td>\n",
       "      <td>0.607690</td>\n",
       "      <td>0.640974</td>\n",
       "      <td>0.686629</td>\n",
       "      <td>0.670308</td>\n",
       "      <td>0.630864</td>\n",
       "      <td>0.530075</td>\n",
       "      <td>0.594945</td>\n",
       "      <td>0.916013</td>\n",
       "    </tr>\n",
       "    <tr>\n",
       "      <th>2</th>\n",
       "      <td>13108390UDD.png</td>\n",
       "      <td>0.962574</td>\n",
       "      <td>0.566575</td>\n",
       "      <td>1.000000</td>\n",
       "      <td>0.940119</td>\n",
       "      <td>0.590352</td>\n",
       "      <td>0.596473</td>\n",
       "      <td>0.859754</td>\n",
       "      <td>0.888617</td>\n",
       "      <td>0.833220</td>\n",
       "      <td>...</td>\n",
       "      <td>0.542767</td>\n",
       "      <td>0.771254</td>\n",
       "      <td>0.697347</td>\n",
       "      <td>0.533319</td>\n",
       "      <td>0.532808</td>\n",
       "      <td>0.614707</td>\n",
       "      <td>0.597611</td>\n",
       "      <td>0.593378</td>\n",
       "      <td>0.648338</td>\n",
       "      <td>0.525772</td>\n",
       "    </tr>\n",
       "    <tr>\n",
       "      <th>3</th>\n",
       "      <td>13108390UDR.png</td>\n",
       "      <td>0.921918</td>\n",
       "      <td>0.636311</td>\n",
       "      <td>0.940119</td>\n",
       "      <td>1.000000</td>\n",
       "      <td>0.655306</td>\n",
       "      <td>0.661683</td>\n",
       "      <td>0.805589</td>\n",
       "      <td>0.836169</td>\n",
       "      <td>0.829218</td>\n",
       "      <td>...</td>\n",
       "      <td>0.563285</td>\n",
       "      <td>0.764039</td>\n",
       "      <td>0.698533</td>\n",
       "      <td>0.538599</td>\n",
       "      <td>0.542807</td>\n",
       "      <td>0.612861</td>\n",
       "      <td>0.597783</td>\n",
       "      <td>0.589941</td>\n",
       "      <td>0.632164</td>\n",
       "      <td>0.582914</td>\n",
       "    </tr>\n",
       "    <tr>\n",
       "      <th>4</th>\n",
       "      <td>13110484CLD.png</td>\n",
       "      <td>0.622158</td>\n",
       "      <td>0.962914</td>\n",
       "      <td>0.590352</td>\n",
       "      <td>0.655306</td>\n",
       "      <td>1.000000</td>\n",
       "      <td>0.970347</td>\n",
       "      <td>0.602955</td>\n",
       "      <td>0.598953</td>\n",
       "      <td>0.736918</td>\n",
       "      <td>...</td>\n",
       "      <td>0.709078</td>\n",
       "      <td>0.604805</td>\n",
       "      <td>0.654557</td>\n",
       "      <td>0.604570</td>\n",
       "      <td>0.647255</td>\n",
       "      <td>0.659036</td>\n",
       "      <td>0.620964</td>\n",
       "      <td>0.548372</td>\n",
       "      <td>0.615931</td>\n",
       "      <td>0.922684</td>\n",
       "    </tr>\n",
       "    <tr>\n",
       "      <th>...</th>\n",
       "      <td>...</td>\n",
       "      <td>...</td>\n",
       "      <td>...</td>\n",
       "      <td>...</td>\n",
       "      <td>...</td>\n",
       "      <td>...</td>\n",
       "      <td>...</td>\n",
       "      <td>...</td>\n",
       "      <td>...</td>\n",
       "      <td>...</td>\n",
       "      <td>...</td>\n",
       "      <td>...</td>\n",
       "      <td>...</td>\n",
       "      <td>...</td>\n",
       "      <td>...</td>\n",
       "      <td>...</td>\n",
       "      <td>...</td>\n",
       "      <td>...</td>\n",
       "      <td>...</td>\n",
       "      <td>...</td>\n",
       "      <td>...</td>\n",
       "    </tr>\n",
       "    <tr>\n",
       "      <th>1045</th>\n",
       "      <td>35469839NFD.png</td>\n",
       "      <td>0.669097</td>\n",
       "      <td>0.670308</td>\n",
       "      <td>0.614707</td>\n",
       "      <td>0.612861</td>\n",
       "      <td>0.659036</td>\n",
       "      <td>0.676247</td>\n",
       "      <td>0.705114</td>\n",
       "      <td>0.676823</td>\n",
       "      <td>0.682682</td>\n",
       "      <td>...</td>\n",
       "      <td>0.782139</td>\n",
       "      <td>0.664362</td>\n",
       "      <td>0.630764</td>\n",
       "      <td>0.860946</td>\n",
       "      <td>0.797762</td>\n",
       "      <td>1.000000</td>\n",
       "      <td>0.935820</td>\n",
       "      <td>0.753071</td>\n",
       "      <td>0.769757</td>\n",
       "      <td>0.643536</td>\n",
       "    </tr>\n",
       "    <tr>\n",
       "      <th>1046</th>\n",
       "      <td>35469839NFR.png</td>\n",
       "      <td>0.649973</td>\n",
       "      <td>0.630864</td>\n",
       "      <td>0.597611</td>\n",
       "      <td>0.597783</td>\n",
       "      <td>0.620964</td>\n",
       "      <td>0.623554</td>\n",
       "      <td>0.690902</td>\n",
       "      <td>0.666203</td>\n",
       "      <td>0.654900</td>\n",
       "      <td>...</td>\n",
       "      <td>0.826258</td>\n",
       "      <td>0.660384</td>\n",
       "      <td>0.626728</td>\n",
       "      <td>0.907924</td>\n",
       "      <td>0.847667</td>\n",
       "      <td>0.935820</td>\n",
       "      <td>1.000000</td>\n",
       "      <td>0.773116</td>\n",
       "      <td>0.760573</td>\n",
       "      <td>0.582643</td>\n",
       "    </tr>\n",
       "    <tr>\n",
       "      <th>1047</th>\n",
       "      <td>35469919KWD.png</td>\n",
       "      <td>0.634971</td>\n",
       "      <td>0.530075</td>\n",
       "      <td>0.593378</td>\n",
       "      <td>0.589941</td>\n",
       "      <td>0.548372</td>\n",
       "      <td>0.544249</td>\n",
       "      <td>0.698607</td>\n",
       "      <td>0.661285</td>\n",
       "      <td>0.651734</td>\n",
       "      <td>...</td>\n",
       "      <td>0.685158</td>\n",
       "      <td>0.769034</td>\n",
       "      <td>0.726123</td>\n",
       "      <td>0.682359</td>\n",
       "      <td>0.628235</td>\n",
       "      <td>0.753071</td>\n",
       "      <td>0.773116</td>\n",
       "      <td>1.000000</td>\n",
       "      <td>0.905619</td>\n",
       "      <td>0.548053</td>\n",
       "    </tr>\n",
       "    <tr>\n",
       "      <th>1048</th>\n",
       "      <td>35469919KWR.png</td>\n",
       "      <td>0.688263</td>\n",
       "      <td>0.594945</td>\n",
       "      <td>0.648338</td>\n",
       "      <td>0.632164</td>\n",
       "      <td>0.615931</td>\n",
       "      <td>0.616305</td>\n",
       "      <td>0.798276</td>\n",
       "      <td>0.751741</td>\n",
       "      <td>0.721474</td>\n",
       "      <td>...</td>\n",
       "      <td>0.709627</td>\n",
       "      <td>0.831856</td>\n",
       "      <td>0.785337</td>\n",
       "      <td>0.686287</td>\n",
       "      <td>0.638952</td>\n",
       "      <td>0.769757</td>\n",
       "      <td>0.760573</td>\n",
       "      <td>0.905619</td>\n",
       "      <td>1.000000</td>\n",
       "      <td>0.614074</td>\n",
       "    </tr>\n",
       "    <tr>\n",
       "      <th>1049</th>\n",
       "      <td>35469965SND.png</td>\n",
       "      <td>0.563770</td>\n",
       "      <td>0.916013</td>\n",
       "      <td>0.525772</td>\n",
       "      <td>0.582914</td>\n",
       "      <td>0.922684</td>\n",
       "      <td>0.944642</td>\n",
       "      <td>0.563791</td>\n",
       "      <td>0.541704</td>\n",
       "      <td>0.727636</td>\n",
       "      <td>...</td>\n",
       "      <td>0.693603</td>\n",
       "      <td>0.544295</td>\n",
       "      <td>0.600326</td>\n",
       "      <td>0.583214</td>\n",
       "      <td>0.629628</td>\n",
       "      <td>0.643536</td>\n",
       "      <td>0.582643</td>\n",
       "      <td>0.548053</td>\n",
       "      <td>0.614074</td>\n",
       "      <td>1.000000</td>\n",
       "    </tr>\n",
       "  </tbody>\n",
       "</table>\n",
       "<p>1050 rows × 1051 columns</p>\n",
       "</div>"
      ],
      "text/plain": [
       "                names  13079565VVD.png  13079565VVR.png  13108390UDD.png  \\\n",
       "0     13079565VVD.png         1.000000         0.603766         0.962574   \n",
       "1     13079565VVR.png         0.603766         1.000000         0.566575   \n",
       "2     13108390UDD.png         0.962574         0.566575         1.000000   \n",
       "3     13108390UDR.png         0.921918         0.636311         0.940119   \n",
       "4     13110484CLD.png         0.622158         0.962914         0.590352   \n",
       "...               ...              ...              ...              ...   \n",
       "1045  35469839NFD.png         0.669097         0.670308         0.614707   \n",
       "1046  35469839NFR.png         0.649973         0.630864         0.597611   \n",
       "1047  35469919KWD.png         0.634971         0.530075         0.593378   \n",
       "1048  35469919KWR.png         0.688263         0.594945         0.648338   \n",
       "1049  35469965SND.png         0.563770         0.916013         0.525772   \n",
       "\n",
       "      13108390UDR.png  13110484CLD.png  13110484CLR.png  13162479UBD.png  \\\n",
       "0            0.921918         0.622158         0.630743         0.891023   \n",
       "1            0.636311         0.962914         0.957046         0.580243   \n",
       "2            0.940119         0.590352         0.596473         0.859754   \n",
       "3            1.000000         0.655306         0.661683         0.805589   \n",
       "4            0.655306         1.000000         0.970347         0.602955   \n",
       "...               ...              ...              ...              ...   \n",
       "1045         0.612861         0.659036         0.676247         0.705114   \n",
       "1046         0.597783         0.620964         0.623554         0.690902   \n",
       "1047         0.589941         0.548372         0.544249         0.698607   \n",
       "1048         0.632164         0.615931         0.616305         0.798276   \n",
       "1049         0.582914         0.922684         0.944642         0.563791   \n",
       "\n",
       "      13162479UBR.png  13180761CUD.png  ...  35469801CGR.png  35469803KND.png  \\\n",
       "0            0.906469         0.839861  ...         0.582137         0.797738   \n",
       "1            0.577124         0.716554  ...         0.714773         0.554644   \n",
       "2            0.888617         0.833220  ...         0.542767         0.771254   \n",
       "3            0.836169         0.829218  ...         0.563285         0.764039   \n",
       "4            0.598953         0.736918  ...         0.709078         0.604805   \n",
       "...               ...              ...  ...              ...              ...   \n",
       "1045         0.676823         0.682682  ...         0.782139         0.664362   \n",
       "1046         0.666203         0.654900  ...         0.826258         0.660384   \n",
       "1047         0.661285         0.651734  ...         0.685158         0.769034   \n",
       "1048         0.751741         0.721474  ...         0.709627         0.831856   \n",
       "1049         0.541704         0.727636  ...         0.693603         0.544295   \n",
       "\n",
       "      35469803KNR.png  35469830CLD.png  35469830CLR.png  35469839NFD.png  \\\n",
       "0            0.728305         0.576462         0.575991         0.669097   \n",
       "1            0.607690         0.640974         0.686629         0.670308   \n",
       "2            0.697347         0.533319         0.532808         0.614707   \n",
       "3            0.698533         0.538599         0.542807         0.612861   \n",
       "4            0.654557         0.604570         0.647255         0.659036   \n",
       "...               ...              ...              ...              ...   \n",
       "1045         0.630764         0.860946         0.797762         1.000000   \n",
       "1046         0.626728         0.907924         0.847667         0.935820   \n",
       "1047         0.726123         0.682359         0.628235         0.753071   \n",
       "1048         0.785337         0.686287         0.638952         0.769757   \n",
       "1049         0.600326         0.583214         0.629628         0.643536   \n",
       "\n",
       "      35469839NFR.png  35469919KWD.png  35469919KWR.png  35469965SND.png  \n",
       "0            0.649973         0.634971         0.688263         0.563770  \n",
       "1            0.630864         0.530075         0.594945         0.916013  \n",
       "2            0.597611         0.593378         0.648338         0.525772  \n",
       "3            0.597783         0.589941         0.632164         0.582914  \n",
       "4            0.620964         0.548372         0.615931         0.922684  \n",
       "...               ...              ...              ...              ...  \n",
       "1045         0.935820         0.753071         0.769757         0.643536  \n",
       "1046         1.000000         0.773116         0.760573         0.582643  \n",
       "1047         0.773116         1.000000         0.905619         0.548053  \n",
       "1048         0.760573         0.905619         1.000000         0.614074  \n",
       "1049         0.582643         0.548053         0.614074         1.000000  \n",
       "\n",
       "[1050 rows x 1051 columns]"
      ]
     },
     "execution_count": 233,
     "metadata": {},
     "output_type": "execute_result"
    }
   ],
   "source": [
    "df"
   ]
  },
  {
   "cell_type": "code",
   "execution_count": 234,
   "id": "2c3be359",
   "metadata": {},
   "outputs": [],
   "source": [
    "d={}"
   ]
  },
  {
   "cell_type": "code",
   "execution_count": 235,
   "id": "80ec2df3",
   "metadata": {},
   "outputs": [],
   "source": [
    "for i in names :\n",
    "    j=df[i].sort_values(ascending=False)[:11].index\n",
    "    s=[]\n",
    "    for k in range(1,len(j)) :\n",
    "        s.append(df['names'][j[k]])\n",
    "    d[i]=s\n",
    "        \n",
    "    "
   ]
  },
  {
   "cell_type": "code",
   "execution_count": 237,
   "id": "ba5755ee",
   "metadata": {},
   "outputs": [
    {
     "data": {
      "text/plain": [
       "1050"
      ]
     },
     "execution_count": 237,
     "metadata": {},
     "output_type": "execute_result"
    }
   ],
   "source": [
    "len(d)"
   ]
  },
  {
   "cell_type": "code",
   "execution_count": null,
   "id": "1de6fd6b",
   "metadata": {},
   "outputs": [],
   "source": []
  }
 ],
 "metadata": {
  "kernelspec": {
   "display_name": "Python 3",
   "language": "python",
   "name": "python3"
  },
  "language_info": {
   "codemirror_mode": {
    "name": "ipython",
    "version": 3
   },
   "file_extension": ".py",
   "mimetype": "text/x-python",
   "name": "python",
   "nbconvert_exporter": "python",
   "pygments_lexer": "ipython3",
   "version": "3.8.8"
  }
 },
 "nbformat": 4,
 "nbformat_minor": 5
}
